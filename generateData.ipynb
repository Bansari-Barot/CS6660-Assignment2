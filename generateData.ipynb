{
 "cells": [
  {
   "cell_type": "code",
   "execution_count": 72,
   "metadata": {},
   "outputs": [],
   "source": [
    "from py2neo import Graph, Node, Relationship\n",
    "graph = Graph(\"http://localhost:7474/db/data\", user=\"bansri\", password=\"slack\")\n",
    "graph.delete_all()"
   ]
  },
  {
   "cell_type": "code",
   "execution_count": 73,
   "metadata": {
    "collapsed": true
   },
   "outputs": [],
   "source": [
    "import random\n",
    "from faker import Faker\n",
    "import faker.providers\n",
    "from faker.providers import BaseProvider\n",
    "from faker import Factory\n",
    "fake = Factory.create()\n",
    "from random import expovariate, normalvariate, choice, randint, shuffle"
   ]
  },
  {
   "cell_type": "code",
   "execution_count": 74,
   "metadata": {
    "collapsed": true
   },
   "outputs": [],
   "source": [
    "import random\n",
    "domains = [ \"hotmail.com\", \"gmail.com\", \"aol.com\", \"mail.com\" , \"mail.kz\", \"yahoo.com\"]\n",
    "letters = [\"a\", \"b\", \"c\", \"d\",\"e\", \"f\", \"g\", \"h\", \"i\", \"j\", \"k\", \"l\"]\n",
    "\n",
    "def get_one_random_domain(domains):\n",
    "        return domains[random.randint( 0, len(domains)-1)]\n",
    "\n",
    "\n",
    "def get_one_random_name(letters):\n",
    "    email_name = \"\"\n",
    "    for i in range(7):\n",
    "        email_name = email_name + letters[random.randint(0,11)]\n",
    "    return email_name\n",
    "\n",
    "def generate_random_emails():\n",
    "    one_name = str(get_one_random_name(letters))\n",
    "    one_domain = str(get_one_random_domain(domains))         \n",
    "    return one_name  + \"@\" + one_domain\n",
    "        \n",
    "        \n",
    "def gen_gender():\n",
    "    '''Return random gender M/F\n",
    "    '''\n",
    "    return choice('FM')\n",
    "\n",
    "status_list = ['active', 'In a meeting', 'commuting', 'sick', 'On holiday', 'Working remotely']\n",
    "def pick_status():\n",
    "    return status_list[random.randint(0,len(status_list)-1)]"
   ]
  },
  {
   "cell_type": "code",
   "execution_count": 75,
   "metadata": {},
   "outputs": [
    {
     "data": {
      "text/plain": [
       "'bfbfdjf@yahoo.com'"
      ]
     },
     "execution_count": 75,
     "metadata": {},
     "output_type": "execute_result"
    }
   ],
   "source": [
    "generate_random_emails()"
   ]
  },
  {
   "cell_type": "code",
   "execution_count": 76,
   "metadata": {
    "collapsed": true
   },
   "outputs": [],
   "source": [
    "#users have name, phone, email\n",
    "users = []\n",
    "def generate_users():\n",
    "    ''' Generate fields for one employee\n",
    "    '''\n",
    "    \n",
    "        \n",
    "    \n",
    "    \n",
    "    new_user = Node(\"USER\", fname=fake.first_name() , lname=fake.last_name(), email_id= generate_random_emails(), phone_num = fake.phone_number(),status = pick_status())\n",
    "    users.append(new_user)\n",
    "    graph.create(new_user)\n",
    "    \n",
    "    return new_user"
   ]
  },
  {
   "cell_type": "code",
   "execution_count": 77,
   "metadata": {
    "collapsed": true
   },
   "outputs": [],
   "source": [
    "# Workspace have name, date_of_creation\n",
    "workspace_num = 10\n",
    "used_workspaces = {}\n",
    "\n",
    "def generate_workspaces():\n",
    "    global workspace_num\n",
    "    unique = False\n",
    "    while not unique:\n",
    "        wname = fake.company()\n",
    "        try:\n",
    "            used_workspaces[wname]\n",
    "        except KeyError:\n",
    "            unique = True\n",
    "    used_workspaces[wname] = True\n",
    "    workspace_num = workspace_num + 1\n",
    "    ws = Node(\"WORKSPACE\", wname=wname, date_of_creation=fake.date())\n",
    "    workspaces.append(ws)\n",
    "    graph.create(ws)\n",
    "    return ws"
   ]
  },
  {
   "cell_type": "code",
   "execution_count": null,
   "metadata": {},
   "outputs": [],
   "source": []
  },
  {
   "cell_type": "code",
   "execution_count": 78,
   "metadata": {
    "collapsed": true
   },
   "outputs": [],
   "source": [
    "#Channels have name and start_date\n",
    "channel_num = 100\n",
    "channels = []\n",
    "def generate_channels():\n",
    "    global channel_num\n",
    "    cname = \"CHANNEL\" + str(channel_num)\n",
    "    channel_num = channel_num + 1\n",
    "    channel = Node(\"CHANNEL\", cname = fake.company_suffix(), start_date=fake.date()) \n",
    "    channels.append(channel)\n",
    "    graph.create(channel)\n",
    "    return channel"
   ]
  },
  {
   "cell_type": "code",
   "execution_count": 79,
   "metadata": {
    "collapsed": true
   },
   "outputs": [],
   "source": [
    "#Posts(messages) have post, post_date\n",
    "post_num=200\n",
    "posts = []\n",
    "def generate_posts():\n",
    "    global post_num\n",
    "    pname=\"POST\" + str(post_num)\n",
    "    post_num = post_num + 1\n",
    "    post = Node(\"POST\", pname = fake.word(), post_date=fake.text(max_nb_chars=50, ext_word_list=None))\n",
    "    posts.append(post)\n",
    "    graph.create(post)\n",
    "    return post"
   ]
  },
  {
   "cell_type": "code",
   "execution_count": 80,
   "metadata": {},
   "outputs": [
    {
     "name": "stdout",
     "output_type": "stream",
     "text": [
      "100 18 20 1000\n"
     ]
    }
   ],
   "source": [
    "#generating the data\n",
    "\n",
    "for i in range(100):\n",
    "    generate_users()\n",
    "\n",
    "for i in range(10):\n",
    "    generate_workspaces()\n",
    "\n",
    "for i in range(20):\n",
    "    generate_channels()\n",
    "    \n",
    "for i in range(1000):\n",
    "    generate_posts()\n",
    "\n",
    "print (len(users), len(workspaces), len(channels), len(posts))"
   ]
  },
  {
   "cell_type": "code",
   "execution_count": 81,
   "metadata": {
    "collapsed": true
   },
   "outputs": [],
   "source": [
    "#creating relations\n",
    "\n",
    "relations = []\n",
    "\n",
    "for user in users:\n",
    "    workspace = random.choice(workspaces)\n",
    "    rel = Relationship(user, \"HAS_ACCESS_TO\", workspace)\n",
    "    relations.append(rel)\n",
    "    \n",
    "\n",
    "for channel in channels:\n",
    "    worksapce = random.choice(workspaces)\n",
    "    rel = Relationship(worksapce, \"HAS_A\", channel)\n",
    "    relations.append(rel)\n",
    "    \n",
    "for post in posts:\n",
    "    channel = random.choice(channels)\n",
    "    user = random.choice(users)\n",
    "    rel = Relationship(post, \"IS_IN\", channel)\n",
    "    rel1 = Relationship(user,\"POSTED\",post)\n",
    "    relations.append(rel)\n",
    "    relations.append(rel1)\n",
    "\n",
    "\n"
   ]
  },
  {
   "cell_type": "code",
   "execution_count": 82,
   "metadata": {
    "collapsed": true
   },
   "outputs": [],
   "source": [
    "for relation in relations:\n",
    "    graph.create(relation)"
   ]
  }
 ],
 "metadata": {
  "kernelspec": {
   "display_name": "Python 3",
   "language": "python",
   "name": "python3"
  },
  "language_info": {
   "codemirror_mode": {
    "name": "ipython",
    "version": 3
   },
   "file_extension": ".py",
   "mimetype": "text/x-python",
   "name": "python",
   "nbconvert_exporter": "python",
   "pygments_lexer": "ipython3",
   "version": "3.6.3"
  }
 },
 "nbformat": 4,
 "nbformat_minor": 2
}
